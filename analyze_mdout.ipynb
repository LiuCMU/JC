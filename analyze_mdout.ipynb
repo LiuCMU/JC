{
 "cells": [
  {
   "cell_type": "markdown",
   "metadata": {},
   "source": [
    "# HW For Week3"
   ]
  },
  {
   "cell_type": "code",
   "execution_count": 21,
   "metadata": {},
   "outputs": [],
   "source": [
    "import os\n",
    "import argparse\n",
    "\n",
    "def ExtracInfo(result, data):\n",
    "    '''\n",
    "    result is the path where the output is stored;\n",
    "    data is a list containing all lines of the orginal input file.\n",
    "    '''\n",
    "    with open(result, 'w+') as f_write:\n",
    "        for line in data:\n",
    "            split_line = line.split()\n",
    "            if 'Etot' in line:\n",
    "                f_write.write(f'{split_line[2]} \\n')\n",
    "\n",
    "def DeleteLst2(path):\n",
    "    '''\n",
    "    Result is the path of file, of which we want to delete the last two lines\n",
    "    '''\n",
    "    with open(path, 'r') as f_d:\n",
    "        data = f_d.readlines()\n",
    "    Tol = len(data)\n",
    "    with open(path, 'w+') as f:\n",
    "        for val in data:\n",
    "            if data.index(val) < Tol-2:\n",
    "                f.write(f'{val}')\n",
    "\n",
    "def ReadData(path):\n",
    "    f = open(path, 'r')\n",
    "    data = f.readlines()\n",
    "    f.close()\n",
    "    return data\n",
    "\n",
    "parser = argparse.ArgumentParser(description='This script extract the total energy from give mdout file')\n",
    "parser.add_argument('mdout_file_path', help='The paht of mdout file')\n",
    "\n",
    "args = parser.parse_args()\n",
    "data = ReadData(args.mdout_file_path)\n",
    "ExtracInfo('Etot.txt', data)\n",
    "DeleteLst2('Etot.txt')"
   ]
  },
  {
   "cell_type": "code",
   "execution_count": null,
   "metadata": {},
   "outputs": [],
   "source": []
  }
 ],
 "metadata": {
  "kernelspec": {
   "display_name": "Python 3",
   "language": "python",
   "name": "python3"
  },
  "language_info": {
   "codemirror_mode": {
    "name": "ipython",
    "version": 3
   },
   "file_extension": ".py",
   "mimetype": "text/x-python",
   "name": "python",
   "nbconvert_exporter": "python",
   "pygments_lexer": "ipython3",
   "version": "3.7.6"
  }
 },
 "nbformat": 4,
 "nbformat_minor": 4
}
