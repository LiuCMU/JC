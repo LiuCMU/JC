{
 "cells": [
  {
   "cell_type": "markdown",
   "metadata": {},
   "source": [
    "# Writing functions"
   ]
  },
  {
   "cell_type": "code",
   "execution_count": 1,
   "metadata": {},
   "outputs": [],
   "source": [
    "def calculate_distance(atom1_coord, atom2_coord):\n",
    "    x_distance = atom1_coord[0] - atom2_coord[0]\n",
    "    y_distance = atom1_coord[1] - atom2_coord[1]\n",
    "    z_distance = atom1_coord[2] - atom2_coord[2]\n",
    "    atom_distance = numpy.sqrt(x_distance**2 + y_distance**2 + z_distance**2)\n",
    "    return atom_distance"
   ]
  },
  {
   "cell_type": "code",
   "execution_count": 4,
   "metadata": {},
   "outputs": [
    {
     "name": "stdout",
     "output_type": "stream",
     "text": [
      "O to H1 : 0.969\n",
      "O to H2 : 0.969\n"
     ]
    }
   ],
   "source": [
    "import numpy\n",
    "import os\n",
    "\n",
    "file_location = os.path.join('data', 'water.xyz')\n",
    "xyz_file = numpy.genfromtxt(fname=file_location, skip_header=2, dtype='unicode')\n",
    "symbols = xyz_file[:, 0]\n",
    "coordinates = xyz_file[:, 1:]\n",
    "coordinates = coordinates.astype(numpy.float)\n",
    "num_atoms = len(symbols)\n",
    "for num1 in range(0, num_atoms):\n",
    "    for num2 in range(0, num_atoms):\n",
    "        if num1<num2:\n",
    "            atom_distance = calculate_distance(coordinates[num1], coordinates[num2])\n",
    "            if atom_distance >0 and atom_distance <=1.5:\n",
    "                print(f'{symbols[num1]} to {symbols[num2]} : {atom_distance:.3f}')"
   ]
  },
  {
   "cell_type": "code",
   "execution_count": 7,
   "metadata": {},
   "outputs": [],
   "source": [
    "def bond_check(distance):\n",
    "    if distance >0 and distance<=1.5:\n",
    "        return True\n",
    "    else:\n",
    "        return False"
   ]
  },
  {
   "cell_type": "code",
   "execution_count": 8,
   "metadata": {},
   "outputs": [
    {
     "data": {
      "text/plain": [
       "True"
      ]
     },
     "execution_count": 8,
     "metadata": {},
     "output_type": "execute_result"
    }
   ],
   "source": [
    "bond_check(1.2)"
   ]
  },
  {
   "cell_type": "code",
   "execution_count": 9,
   "metadata": {},
   "outputs": [],
   "source": [
    "# modify the bondcheck function so that the user can specify the minimum and maximum\n",
    "def bond_check(distance, minimum, maximum):\n",
    "    if distance >minimum and distance<=maximum:\n",
    "        return True\n",
    "    else:\n",
    "        return False"
   ]
  },
  {
   "cell_type": "code",
   "execution_count": 10,
   "metadata": {},
   "outputs": [
    {
     "data": {
      "text/plain": [
       "True"
      ]
     },
     "execution_count": 10,
     "metadata": {},
     "output_type": "execute_result"
    }
   ],
   "source": [
    "bond_check(1.5, 1, 2.0)"
   ]
  },
  {
   "cell_type": "code",
   "execution_count": 13,
   "metadata": {},
   "outputs": [],
   "source": [
    "def calculate_distance(atom1_coord, atom2_coord):\n",
    "    \"\"\"\n",
    "    Calculate the distance between two points in 3D space\n",
    "    Inputs: coordinates of the two atoms\n",
    "    Return: distance between the atoms\n",
    "    \"\"\"\n",
    "    \n",
    "    x_distance = atom1_coord[0] - atom2_coord[0]\n",
    "    y_distance = atom1_coord[1] - atom2_coord[1]\n",
    "    z_distance = atom1_coord[2] - atom2_coord[2]\n",
    "    atom_distance = numpy.sqrt(x_distance**2 + y_distance**2 + z_distance**2)\n",
    "    return atom_distance"
   ]
  },
  {
   "cell_type": "code",
   "execution_count": 14,
   "metadata": {},
   "outputs": [
    {
     "name": "stdout",
     "output_type": "stream",
     "text": [
      "Help on function calculate_distance in module __main__:\n",
      "\n",
      "calculate_distance(atom1_coord, atom2_coord)\n",
      "    Calculate the distance between two points in 3D space\n",
      "    Inputs: coordinates of the two atoms\n",
      "    Return: distance between the atoms\n",
      "\n"
     ]
    }
   ],
   "source": [
    "help(calculate_distance)"
   ]
  },
  {
   "cell_type": "code",
   "execution_count": 15,
   "metadata": {},
   "outputs": [
    {
     "name": "stdout",
     "output_type": "stream",
     "text": [
      "O to H1 : 0.969\n",
      "O to H2 : 0.969\n"
     ]
    }
   ],
   "source": [
    "import numpy\n",
    "import os\n",
    "\n",
    "file_location = os.path.join('data', 'water.xyz')\n",
    "xyz_file = numpy.genfromtxt(fname=file_location, skip_header=2, dtype='unicode')\n",
    "symbols = xyz_file[:, 0]\n",
    "coordinates = xyz_file[:, 1:]\n",
    "coordinates = coordinates.astype(numpy.float)\n",
    "num_atoms = len(symbols)\n",
    "for num1 in range(0, num_atoms):\n",
    "    for num2 in range(0, num_atoms):\n",
    "        if num1<num2:\n",
    "            atom_distance = calculate_distance(coordinates[num1], coordinates[num2])\n",
    "            if bond_check(atom_distance, 0, 1.5) is True:\n",
    "                print(f'{symbols[num1]} to {symbols[num2]} : {atom_distance:.3f}')"
   ]
  },
  {
   "cell_type": "code",
   "execution_count": 16,
   "metadata": {},
   "outputs": [],
   "source": [
    "def open_xyz(file):\n",
    "    xyz_file = numpy.genfromtxt(file, skip_header=2, dtype='unicode')\n",
    "    symbols = xyz_file[:, 0]\n",
    "    coordinates = xyz_file[:, 1:]\n",
    "    coordinates = coordinates.astype(numpy.float)\n",
    "    return symbols, coordinates"
   ]
  },
  {
   "cell_type": "code",
   "execution_count": 18,
   "metadata": {},
   "outputs": [
    {
     "name": "stdout",
     "output_type": "stream",
     "text": [
      "O to H1 : 0.969\n",
      "O to H2 : 0.969\n"
     ]
    }
   ],
   "source": [
    "import numpy\n",
    "import os\n",
    "\n",
    "file_location = os.path.join('data', 'water.xyz')\n",
    "symbols, coordinates = open_xyz(file_location)\n",
    "num_atoms = len(symbols)\n",
    "for num1 in range(0, num_atoms):\n",
    "    for num2 in range(0, num_atoms):\n",
    "        if num1<num2:\n",
    "            atom_distance = calculate_distance(coordinates[num1], coordinates[num2])\n",
    "            if bond_check(atom_distance, 0, 1.5) is True:\n",
    "                print(f'{symbols[num1]} to {symbols[num2]} : {atom_distance:.3f}')"
   ]
  },
  {
   "cell_type": "code",
   "execution_count": 19,
   "metadata": {},
   "outputs": [
    {
     "name": "stdout",
     "output_type": "stream",
     "text": [
      "O to H1 : 0.969\n",
      "O to H2 : 0.969\n"
     ]
    }
   ],
   "source": [
    "import numpy\n",
    "import os\n",
    "\n",
    "def open_xyz(file):\n",
    "    xyz_file = numpy.genfromtxt(file, skip_header=2, dtype='unicode')\n",
    "    symbols = xyz_file[:, 0]\n",
    "    coordinates = xyz_file[:, 1:]\n",
    "    coordinates = coordinates.astype(numpy.float)\n",
    "    return symbols, coordinates\n",
    "    \n",
    "\n",
    "def calculate_distance(atom1_coord, atom2_coord):\n",
    "    \"\"\"\n",
    "    Calculate the distance between two points in 3D space\n",
    "    Inputs: coordinates of the two atoms\n",
    "    Return: distance between the atoms\n",
    "    \"\"\"\n",
    "    \n",
    "    x_distance = atom1_coord[0] - atom2_coord[0]\n",
    "    y_distance = atom1_coord[1] - atom2_coord[1]\n",
    "    z_distance = atom1_coord[2] - atom2_coord[2]\n",
    "    atom_distance = numpy.sqrt(x_distance**2 + y_distance**2 + z_distance**2)\n",
    "    return atom_distance\n",
    "    \n",
    "def bond_check(distance, minimum, maximum):\n",
    "    if distance >minimum and distance<=maximum:\n",
    "        return True\n",
    "    else:\n",
    "        return False\n",
    "        \n",
    "file_location = os.path.join('data', 'water.xyz')\n",
    "\n",
    "symbols, coordinates = open_xyz(file_location)\n",
    "num_atoms = len(symbols)\n",
    "for num1 in range(0, num_atoms):\n",
    "    for num2 in range(0, num_atoms):\n",
    "        if num1<num2:\n",
    "            atom_distance = calculate_distance(coordinates[num1], coordinates[num2])\n",
    "            if bond_check(atom_distance, 0, 1.5) is True:\n",
    "                print(f'{symbols[num1]} to {symbols[num2]} : {atom_distance:.3f}')"
   ]
  },
  {
   "cell_type": "code",
   "execution_count": null,
   "metadata": {},
   "outputs": [],
   "source": []
  }
 ],
 "metadata": {
  "kernelspec": {
   "display_name": "Python 3",
   "language": "python",
   "name": "python3"
  },
  "language_info": {
   "codemirror_mode": {
    "name": "ipython",
    "version": 3
   },
   "file_extension": ".py",
   "mimetype": "text/x-python",
   "name": "python",
   "nbconvert_exporter": "python",
   "pygments_lexer": "ipython3",
   "version": "3.7.6"
  }
 },
 "nbformat": 4,
 "nbformat_minor": 4
}
