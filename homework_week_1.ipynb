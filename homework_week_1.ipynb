{
 "cells": [
  {
   "cell_type": "markdown",
   "metadata": {},
   "source": [
    "# Solution for Week 1 Homework"
   ]
  },
  {
   "cell_type": "code",
   "execution_count": 7,
   "metadata": {},
   "outputs": [],
   "source": [
    "import os\n",
    "\n",
    "# Open the file\n",
    "filename = os.path.join('data', '03_Prod.mdout')\n",
    "f = open(filename, 'r')\n",
    "\n",
    "# read the data\n",
    "data = f.readlines()\n",
    "\n",
    "# close the file\n",
    "f.close()\n",
    "\n",
    "f_write = open('Etot.txt', 'w+')\n",
    "# Loop throught lines in the file\n",
    "for line in data:\n",
    "    split_line = line.split()\n",
    "    if 'Etot' in line:\n",
    "        f_write.write(f'{split_line[2]} \\n')\n",
    "    \n",
    "# Get information from lines\n"
   ]
  },
  {
   "cell_type": "code",
   "execution_count": null,
   "metadata": {},
   "outputs": [],
   "source": []
  }
 ],
 "metadata": {
  "kernelspec": {
   "display_name": "Python 3",
   "language": "python",
   "name": "python3"
  },
  "language_info": {
   "codemirror_mode": {
    "name": "ipython",
    "version": 3
   },
   "file_extension": ".py",
   "mimetype": "text/x-python",
   "name": "python",
   "nbconvert_exporter": "python",
   "pygments_lexer": "ipython3",
   "version": "3.7.4"
  }
 },
 "nbformat": 4,
 "nbformat_minor": 4
}
